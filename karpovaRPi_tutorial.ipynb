{
 "cells": [
  {
   "cell_type": "markdown",
   "id": "06663057",
   "metadata": {},
   "source": [
    "# Raspberry Pi direct interface to Karpova Nosepoke\n",
    "## Materials\n",
    "- [Karpova Nosepoke](https://karpova-lab.github.io/nosepoke/)\n",
    "- Ethernet cable with RJ45 connectors.\n",
    "- Raspberry pi\n",
    "- DuPont-type connector kit (or similar clone). Female if plugging straight into the raspberry pi. Male if plugging into breakout breadboard\n",
    "- DuPont-type connector crimp tool\n",
    "- Wire stripper/cutter\n",
    "- Super glue\n",
    "\n",
    "## Assembly\n",
    "- Cut off one of the RJ45 connectors from the ethernet cable\n",
    "- Strip the cable jacket to expose roughly 5cm of the inner wires\n",
    "- Tape wires 4,5, and 8 (solid blue, striped green, brown) to the cable jacket so they are out of the way\n",
    "- Strip ~2mm of insulation from wires 1,2,3,6,7 (striped orange, solid orange, striped green, solid green, striped brown). Add dupont connectors to wires 1,3,6 \n",
    "- Wires 2 and 7 will go to ground, so bundle the two together, and apply a dupont connector to the bundled wires. This is the **ground bundle**\n",
    "- In a jacket for two connectors, place the connector for wire 6, and the connector containing the ground bundle. This connector pair will go to the 5V output pin and ground pins. \n",
    "- Wires 1 and 3 will plug into GPIO. You can jacket them as a pair, or independently depending on your layout needs. **This example assumes wire 1 is plugged into raspberry pi board pin 23, and wire 3 is plugged into pin 22**\n",
    "\n",
    "## Basic Example Code Snippet:"
   ]
  },
  {
   "cell_type": "code",
   "execution_count": 3,
   "id": "8b31b89f",
   "metadata": {},
   "outputs": [
    {
     "ename": "SyntaxError",
     "evalue": "invalid syntax (3397764535.py, line 6)",
     "output_type": "error",
     "traceback": [
      "\u001b[0;36m  File \u001b[0;32m\"/tmp/ipykernel_1485908/3397764535.py\"\u001b[0;36m, line \u001b[0;32m6\u001b[0m\n\u001b[0;31m    def __init__(self, led_pin, ir_pin)\u001b[0m\n\u001b[0m                                        ^\u001b[0m\n\u001b[0;31mSyntaxError\u001b[0m\u001b[0;31m:\u001b[0m invalid syntax\n"
     ]
    }
   ],
   "source": [
    "import RPi.GPIO as GPIO\n",
    "import time\n",
    "\n",
    "#for ease of use, this example sets up the nosepoke as an object with callable functions\n",
    "class NosePoke:\n",
    "    def __init__(self, led_pin, ir_pin) \n",
    "    self.led = led_pin #define the NosePoke's LED pin mapping\n",
    "    self.ir = ir_pin #define the NosePoke's IR pin mapping\n",
    "    #initialize the GPIO pins mapped to the LED and IR:\n",
    "    GPIO.setup(self.led, GPIO.OUT) \n",
    "    GPIO.setup(self.ir, GPIO.IN)\n",
    "    \n",
    "    #note that the LED control is backwards of what you'd expect. Turning the pin on dims the LED\n",
    "    def led_off(self):  # turn the light off\n",
    "        GPIO.output(self.led, 1)\n",
    "    \n",
    "    def led_on(self):  # turn the light on\n",
    "        GPIO.output(self.led, 0) \n",
    "        \n",
    "    def is_crossed(self): #momentarily check if the ir beam is crossed\n",
    "        return GPIO.input(self.ir) == 1 #if the IR beam is crossed, this function returns a True, otherwise False. \n",
    "\n",
    "if __name__ == \"__main__\":\n",
    "    GPIO.cleanup() #turn off any pins that shouldn't be on\n",
    "    GPIO.setmode(GPIO.BOARD) #initialize GPIO in \"board mode\", meaning pin numbers are mapped to the literal raspberry pi pin number, not GPIO number \n",
    "    \n",
    "    poke = NosePoke(22,23) #initialize a nosepoke object. The LED is mapped to pin 22, and IR sensor is mapped to pin 23\n",
    "    \n",
    "    #just to demonstrate, turn the LED off for 1 second, and then back on again\n",
    "    poke.led_off()    \n",
    "    time.sleep(1) #pause for a second, otherwise the off/on will be instantanous \n",
    "    poke.led_on()\n",
    "    \n",
    "    #beam break demonstration: print in the terminal if poke is crossed or not, for [duration] seconds\n",
    "    start = time.time()\n",
    "    duration = 30\n",
    "    end = start + duration \n",
    "    while time.time() < end:\n",
    "        print(poke.is_crossed())\n",
    "        time.sleep(0.1) #pause for 0.1s each loop, otherwise your terminal will be flooded with \n",
    "        \n",
    "    GPIO.cleanup()\n",
    "    "
   ]
  }
 ],
 "metadata": {
  "kernelspec": {
   "display_name": "Python 3 (ipykernel)",
   "language": "python",
   "name": "python3"
  },
  "language_info": {
   "codemirror_mode": {
    "name": "ipython",
    "version": 3
   },
   "file_extension": ".py",
   "mimetype": "text/x-python",
   "name": "python",
   "nbconvert_exporter": "python",
   "pygments_lexer": "ipython3",
   "version": "3.7.13"
  }
 },
 "nbformat": 4,
 "nbformat_minor": 5
}
